{
 "cells": [
  {
   "cell_type": "code",
   "execution_count": 1,
   "metadata": {
    "ExecuteTime": {
     "end_time": "2019-03-13T18:10:33.189091Z",
     "start_time": "2019-03-13T18:10:32.993886Z"
    }
   },
   "outputs": [],
   "source": [
    "import pandas as pd\n",
    "import datetime\n",
    "from sqlalchemy import create_engine\n",
    "import pymysql"
   ]
  },
  {
   "cell_type": "code",
   "execution_count": 2,
   "metadata": {
    "ExecuteTime": {
     "end_time": "2019-03-13T18:10:33.230126Z",
     "start_time": "2019-03-13T18:10:33.218671Z"
    }
   },
   "outputs": [],
   "source": [
    "samp_file = pd.read_csv(\"sales_01.04.2015.csv\")"
   ]
  },
  {
   "cell_type": "code",
   "execution_count": 3,
   "metadata": {
    "ExecuteTime": {
     "end_time": "2019-03-13T18:10:33.426057Z",
     "start_time": "2019-03-13T18:10:33.412441Z"
    }
   },
   "outputs": [
    {
     "data": {
      "text/html": [
       "<div>\n",
       "<style scoped>\n",
       "    .dataframe tbody tr th:only-of-type {\n",
       "        vertical-align: middle;\n",
       "    }\n",
       "\n",
       "    .dataframe tbody tr th {\n",
       "        vertical-align: top;\n",
       "    }\n",
       "\n",
       "    .dataframe thead th {\n",
       "        text-align: right;\n",
       "    }\n",
       "</style>\n",
       "<table border=\"1\" class=\"dataframe\">\n",
       "  <thead>\n",
       "    <tr style=\"text-align: right;\">\n",
       "      <th></th>\n",
       "      <th>Unnamed: 0</th>\n",
       "      <th>date</th>\n",
       "      <th>shop_id</th>\n",
       "      <th>item_id</th>\n",
       "      <th>item_price</th>\n",
       "      <th>item_cnt_day</th>\n",
       "    </tr>\n",
       "  </thead>\n",
       "  <tbody>\n",
       "    <tr>\n",
       "      <th>0</th>\n",
       "      <td>2553791</td>\n",
       "      <td>01.04.2015</td>\n",
       "      <td>29</td>\n",
       "      <td>1469</td>\n",
       "      <td>1199.0</td>\n",
       "      <td>1.0</td>\n",
       "    </tr>\n",
       "    <tr>\n",
       "      <th>1</th>\n",
       "      <td>2553959</td>\n",
       "      <td>01.04.2015</td>\n",
       "      <td>28</td>\n",
       "      <td>21364</td>\n",
       "      <td>479.0</td>\n",
       "      <td>1.0</td>\n",
       "    </tr>\n",
       "    <tr>\n",
       "      <th>2</th>\n",
       "      <td>2553979</td>\n",
       "      <td>01.04.2015</td>\n",
       "      <td>28</td>\n",
       "      <td>21365</td>\n",
       "      <td>999.0</td>\n",
       "      <td>2.0</td>\n",
       "    </tr>\n",
       "    <tr>\n",
       "      <th>3</th>\n",
       "      <td>2554011</td>\n",
       "      <td>01.04.2015</td>\n",
       "      <td>28</td>\n",
       "      <td>22104</td>\n",
       "      <td>249.0</td>\n",
       "      <td>2.0</td>\n",
       "    </tr>\n",
       "    <tr>\n",
       "      <th>4</th>\n",
       "      <td>2554035</td>\n",
       "      <td>01.04.2015</td>\n",
       "      <td>28</td>\n",
       "      <td>22091</td>\n",
       "      <td>179.0</td>\n",
       "      <td>1.0</td>\n",
       "    </tr>\n",
       "  </tbody>\n",
       "</table>\n",
       "</div>"
      ],
      "text/plain": [
       "   Unnamed: 0        date  shop_id  item_id  item_price  item_cnt_day\n",
       "0     2553791  01.04.2015       29     1469      1199.0           1.0\n",
       "1     2553959  01.04.2015       28    21364       479.0           1.0\n",
       "2     2553979  01.04.2015       28    21365       999.0           2.0\n",
       "3     2554011  01.04.2015       28    22104       249.0           2.0\n",
       "4     2554035  01.04.2015       28    22091       179.0           1.0"
      ]
     },
     "execution_count": 3,
     "metadata": {},
     "output_type": "execute_result"
    }
   ],
   "source": [
    "samp_file.head()"
   ]
  },
  {
   "cell_type": "code",
   "execution_count": 4,
   "metadata": {
    "ExecuteTime": {
     "end_time": "2019-03-13T18:10:33.590636Z",
     "start_time": "2019-03-13T18:10:33.585038Z"
    }
   },
   "outputs": [
    {
     "name": "stdout",
     "output_type": "stream",
     "text": [
      "<class 'pandas.core.frame.DataFrame'>\n",
      "RangeIndex: 1515 entries, 0 to 1514\n",
      "Data columns (total 6 columns):\n",
      "Unnamed: 0      1515 non-null int64\n",
      "date            1515 non-null object\n",
      "shop_id         1515 non-null int64\n",
      "item_id         1515 non-null int64\n",
      "item_price      1515 non-null float64\n",
      "item_cnt_day    1515 non-null float64\n",
      "dtypes: float64(2), int64(3), object(1)\n",
      "memory usage: 71.1+ KB\n"
     ]
    }
   ],
   "source": [
    "samp_file.info()"
   ]
  },
  {
   "cell_type": "code",
   "execution_count": 5,
   "metadata": {
    "ExecuteTime": {
     "end_time": "2019-03-13T18:10:33.772274Z",
     "start_time": "2019-03-13T18:10:33.768460Z"
    }
   },
   "outputs": [],
   "source": [
    "samp_file.rename(columns = {'Unnamed: 0': 'Sales_id'}, inplace=True)"
   ]
  },
  {
   "cell_type": "code",
   "execution_count": 6,
   "metadata": {
    "ExecuteTime": {
     "end_time": "2019-03-13T18:10:34.084845Z",
     "start_time": "2019-03-13T18:10:33.977151Z"
    }
   },
   "outputs": [],
   "source": [
    "samp_file['date'] = pd.to_datetime(samp_file.date)"
   ]
  },
  {
   "cell_type": "code",
   "execution_count": 7,
   "metadata": {
    "ExecuteTime": {
     "end_time": "2019-03-13T18:10:34.240931Z",
     "start_time": "2019-03-13T18:10:34.235243Z"
    }
   },
   "outputs": [],
   "source": [
    "samp_file = samp_file.astype({'Sales_id' : object, 'item_id' : object, 'shop_id' : object}, inplace = True)"
   ]
  },
  {
   "cell_type": "code",
   "execution_count": 8,
   "metadata": {
    "ExecuteTime": {
     "end_time": "2019-03-13T18:10:34.471607Z",
     "start_time": "2019-03-13T18:10:34.458470Z"
    }
   },
   "outputs": [
    {
     "name": "stdout",
     "output_type": "stream",
     "text": [
      "<class 'pandas.core.frame.DataFrame'>\n",
      "RangeIndex: 1515 entries, 0 to 1514\n",
      "Data columns (total 6 columns):\n",
      "Sales_id        1515 non-null object\n",
      "date            1515 non-null datetime64[ns]\n",
      "shop_id         1515 non-null object\n",
      "item_id         1515 non-null object\n",
      "item_price      1515 non-null float64\n",
      "item_cnt_day    1515 non-null float64\n",
      "dtypes: datetime64[ns](1), float64(2), object(3)\n",
      "memory usage: 71.1+ KB\n"
     ]
    }
   ],
   "source": [
    "samp_file.info()"
   ]
  },
  {
   "cell_type": "code",
   "execution_count": 9,
   "metadata": {
    "ExecuteTime": {
     "end_time": "2019-03-13T18:10:34.708663Z",
     "start_time": "2019-03-13T18:10:34.691911Z"
    }
   },
   "outputs": [],
   "source": [
    "samp_file['item_revenue'] = samp_file['item_price'] * samp_file['item_cnt_day']"
   ]
  },
  {
   "cell_type": "code",
   "execution_count": 10,
   "metadata": {
    "ExecuteTime": {
     "end_time": "2019-03-13T18:10:34.873168Z",
     "start_time": "2019-03-13T18:10:34.861445Z"
    }
   },
   "outputs": [
    {
     "data": {
      "text/html": [
       "<div>\n",
       "<style scoped>\n",
       "    .dataframe tbody tr th:only-of-type {\n",
       "        vertical-align: middle;\n",
       "    }\n",
       "\n",
       "    .dataframe tbody tr th {\n",
       "        vertical-align: top;\n",
       "    }\n",
       "\n",
       "    .dataframe thead th {\n",
       "        text-align: right;\n",
       "    }\n",
       "</style>\n",
       "<table border=\"1\" class=\"dataframe\">\n",
       "  <thead>\n",
       "    <tr style=\"text-align: right;\">\n",
       "      <th></th>\n",
       "      <th>Sales_id</th>\n",
       "      <th>date</th>\n",
       "      <th>shop_id</th>\n",
       "      <th>item_id</th>\n",
       "      <th>item_price</th>\n",
       "      <th>item_cnt_day</th>\n",
       "      <th>item_revenue</th>\n",
       "    </tr>\n",
       "  </thead>\n",
       "  <tbody>\n",
       "    <tr>\n",
       "      <th>0</th>\n",
       "      <td>2553791</td>\n",
       "      <td>2015-01-04</td>\n",
       "      <td>29</td>\n",
       "      <td>1469</td>\n",
       "      <td>1199.0</td>\n",
       "      <td>1.0</td>\n",
       "      <td>1199.0</td>\n",
       "    </tr>\n",
       "    <tr>\n",
       "      <th>1</th>\n",
       "      <td>2553959</td>\n",
       "      <td>2015-01-04</td>\n",
       "      <td>28</td>\n",
       "      <td>21364</td>\n",
       "      <td>479.0</td>\n",
       "      <td>1.0</td>\n",
       "      <td>479.0</td>\n",
       "    </tr>\n",
       "    <tr>\n",
       "      <th>2</th>\n",
       "      <td>2553979</td>\n",
       "      <td>2015-01-04</td>\n",
       "      <td>28</td>\n",
       "      <td>21365</td>\n",
       "      <td>999.0</td>\n",
       "      <td>2.0</td>\n",
       "      <td>1998.0</td>\n",
       "    </tr>\n",
       "    <tr>\n",
       "      <th>3</th>\n",
       "      <td>2554011</td>\n",
       "      <td>2015-01-04</td>\n",
       "      <td>28</td>\n",
       "      <td>22104</td>\n",
       "      <td>249.0</td>\n",
       "      <td>2.0</td>\n",
       "      <td>498.0</td>\n",
       "    </tr>\n",
       "    <tr>\n",
       "      <th>4</th>\n",
       "      <td>2554035</td>\n",
       "      <td>2015-01-04</td>\n",
       "      <td>28</td>\n",
       "      <td>22091</td>\n",
       "      <td>179.0</td>\n",
       "      <td>1.0</td>\n",
       "      <td>179.0</td>\n",
       "    </tr>\n",
       "  </tbody>\n",
       "</table>\n",
       "</div>"
      ],
      "text/plain": [
       "  Sales_id       date shop_id item_id  item_price  item_cnt_day  item_revenue\n",
       "0  2553791 2015-01-04      29    1469      1199.0           1.0        1199.0\n",
       "1  2553959 2015-01-04      28   21364       479.0           1.0         479.0\n",
       "2  2553979 2015-01-04      28   21365       999.0           2.0        1998.0\n",
       "3  2554011 2015-01-04      28   22104       249.0           2.0         498.0\n",
       "4  2554035 2015-01-04      28   22091       179.0           1.0         179.0"
      ]
     },
     "execution_count": 10,
     "metadata": {},
     "output_type": "execute_result"
    }
   ],
   "source": [
    "samp_file.head()"
   ]
  },
  {
   "cell_type": "code",
   "execution_count": 11,
   "metadata": {
    "ExecuteTime": {
     "end_time": "2019-03-13T18:10:35.109948Z",
     "start_time": "2019-03-13T18:10:35.097591Z"
    }
   },
   "outputs": [],
   "source": [
    "agre_store = samp_file.groupby(['shop_id']).sum()"
   ]
  },
  {
   "cell_type": "code",
   "execution_count": 12,
   "metadata": {
    "ExecuteTime": {
     "end_time": "2019-03-13T18:10:35.301161Z",
     "start_time": "2019-03-13T18:10:35.293013Z"
    }
   },
   "outputs": [
    {
     "data": {
      "text/html": [
       "<div>\n",
       "<style scoped>\n",
       "    .dataframe tbody tr th:only-of-type {\n",
       "        vertical-align: middle;\n",
       "    }\n",
       "\n",
       "    .dataframe tbody tr th {\n",
       "        vertical-align: top;\n",
       "    }\n",
       "\n",
       "    .dataframe thead th {\n",
       "        text-align: right;\n",
       "    }\n",
       "</style>\n",
       "<table border=\"1\" class=\"dataframe\">\n",
       "  <thead>\n",
       "    <tr style=\"text-align: right;\">\n",
       "      <th></th>\n",
       "      <th>item_price</th>\n",
       "      <th>item_cnt_day</th>\n",
       "      <th>item_revenue</th>\n",
       "    </tr>\n",
       "    <tr>\n",
       "      <th>shop_id</th>\n",
       "      <th></th>\n",
       "      <th></th>\n",
       "      <th></th>\n",
       "    </tr>\n",
       "  </thead>\n",
       "  <tbody>\n",
       "    <tr>\n",
       "      <th>2</th>\n",
       "      <td>33023.5</td>\n",
       "      <td>27.0</td>\n",
       "      <td>34582.0</td>\n",
       "    </tr>\n",
       "    <tr>\n",
       "      <th>3</th>\n",
       "      <td>22481.0</td>\n",
       "      <td>11.0</td>\n",
       "      <td>22481.0</td>\n",
       "    </tr>\n",
       "    <tr>\n",
       "      <th>4</th>\n",
       "      <td>9787.0</td>\n",
       "      <td>13.0</td>\n",
       "      <td>9787.0</td>\n",
       "    </tr>\n",
       "    <tr>\n",
       "      <th>5</th>\n",
       "      <td>11046.0</td>\n",
       "      <td>15.0</td>\n",
       "      <td>11046.0</td>\n",
       "    </tr>\n",
       "    <tr>\n",
       "      <th>6</th>\n",
       "      <td>38784.0</td>\n",
       "      <td>50.0</td>\n",
       "      <td>46226.0</td>\n",
       "    </tr>\n",
       "  </tbody>\n",
       "</table>\n",
       "</div>"
      ],
      "text/plain": [
       "         item_price  item_cnt_day  item_revenue\n",
       "shop_id                                        \n",
       "2           33023.5          27.0       34582.0\n",
       "3           22481.0          11.0       22481.0\n",
       "4            9787.0          13.0        9787.0\n",
       "5           11046.0          15.0       11046.0\n",
       "6           38784.0          50.0       46226.0"
      ]
     },
     "execution_count": 12,
     "metadata": {},
     "output_type": "execute_result"
    }
   ],
   "source": [
    "agre_store.head()"
   ]
  },
  {
   "cell_type": "code",
   "execution_count": 13,
   "metadata": {
    "ExecuteTime": {
     "end_time": "2019-03-13T18:10:35.494116Z",
     "start_time": "2019-03-13T18:10:35.490361Z"
    }
   },
   "outputs": [],
   "source": [
    "agre_store.drop(columns = ['item_price'], inplace = True)"
   ]
  },
  {
   "cell_type": "code",
   "execution_count": 14,
   "metadata": {
    "ExecuteTime": {
     "end_time": "2019-03-13T18:10:35.719455Z",
     "start_time": "2019-03-13T18:10:35.711544Z"
    }
   },
   "outputs": [],
   "source": [
    "agre_item = samp_file.groupby(['item_id']).sum()"
   ]
  },
  {
   "cell_type": "code",
   "execution_count": 15,
   "metadata": {
    "ExecuteTime": {
     "end_time": "2019-03-13T18:10:35.900066Z",
     "start_time": "2019-03-13T18:10:35.895995Z"
    }
   },
   "outputs": [],
   "source": [
    "agre_item.drop( columns = {'item_price'}, inplace = True)"
   ]
  },
  {
   "cell_type": "code",
   "execution_count": 16,
   "metadata": {
    "ExecuteTime": {
     "end_time": "2019-03-13T18:10:36.092787Z",
     "start_time": "2019-03-13T18:10:36.089015Z"
    }
   },
   "outputs": [],
   "source": [
    "agre_item['item_price'] = agre_item['item_revenue'] / agre_item['item_cnt_day']"
   ]
  },
  {
   "cell_type": "code",
   "execution_count": 17,
   "metadata": {
    "ExecuteTime": {
     "end_time": "2019-03-13T18:10:36.322100Z",
     "start_time": "2019-03-13T18:10:36.309025Z"
    }
   },
   "outputs": [
    {
     "data": {
      "text/html": [
       "<div>\n",
       "<style scoped>\n",
       "    .dataframe tbody tr th:only-of-type {\n",
       "        vertical-align: middle;\n",
       "    }\n",
       "\n",
       "    .dataframe tbody tr th {\n",
       "        vertical-align: top;\n",
       "    }\n",
       "\n",
       "    .dataframe thead th {\n",
       "        text-align: right;\n",
       "    }\n",
       "</style>\n",
       "<table border=\"1\" class=\"dataframe\">\n",
       "  <thead>\n",
       "    <tr style=\"text-align: right;\">\n",
       "      <th></th>\n",
       "      <th>item_cnt_day</th>\n",
       "      <th>item_revenue</th>\n",
       "      <th>item_price</th>\n",
       "    </tr>\n",
       "    <tr>\n",
       "      <th>item_id</th>\n",
       "      <th></th>\n",
       "      <th></th>\n",
       "      <th></th>\n",
       "    </tr>\n",
       "  </thead>\n",
       "  <tbody>\n",
       "    <tr>\n",
       "      <th>30</th>\n",
       "      <td>1.0</td>\n",
       "      <td>169.00</td>\n",
       "      <td>169.000000</td>\n",
       "    </tr>\n",
       "    <tr>\n",
       "      <th>31</th>\n",
       "      <td>1.0</td>\n",
       "      <td>363.00</td>\n",
       "      <td>363.000000</td>\n",
       "    </tr>\n",
       "    <tr>\n",
       "      <th>32</th>\n",
       "      <td>1.0</td>\n",
       "      <td>149.00</td>\n",
       "      <td>149.000000</td>\n",
       "    </tr>\n",
       "    <tr>\n",
       "      <th>42</th>\n",
       "      <td>1.0</td>\n",
       "      <td>299.00</td>\n",
       "      <td>299.000000</td>\n",
       "    </tr>\n",
       "    <tr>\n",
       "      <th>59</th>\n",
       "      <td>1.0</td>\n",
       "      <td>249.00</td>\n",
       "      <td>249.000000</td>\n",
       "    </tr>\n",
       "    <tr>\n",
       "      <th>74</th>\n",
       "      <td>1.0</td>\n",
       "      <td>499.00</td>\n",
       "      <td>499.000000</td>\n",
       "    </tr>\n",
       "    <tr>\n",
       "      <th>109</th>\n",
       "      <td>1.0</td>\n",
       "      <td>249.00</td>\n",
       "      <td>249.000000</td>\n",
       "    </tr>\n",
       "    <tr>\n",
       "      <th>259</th>\n",
       "      <td>1.0</td>\n",
       "      <td>249.00</td>\n",
       "      <td>249.000000</td>\n",
       "    </tr>\n",
       "    <tr>\n",
       "      <th>464</th>\n",
       "      <td>1.0</td>\n",
       "      <td>299.00</td>\n",
       "      <td>299.000000</td>\n",
       "    </tr>\n",
       "    <tr>\n",
       "      <th>482</th>\n",
       "      <td>4.0</td>\n",
       "      <td>13200.00</td>\n",
       "      <td>3300.000000</td>\n",
       "    </tr>\n",
       "    <tr>\n",
       "      <th>486</th>\n",
       "      <td>7.0</td>\n",
       "      <td>2100.00</td>\n",
       "      <td>300.000000</td>\n",
       "    </tr>\n",
       "    <tr>\n",
       "      <th>492</th>\n",
       "      <td>1.0</td>\n",
       "      <td>600.00</td>\n",
       "      <td>600.000000</td>\n",
       "    </tr>\n",
       "    <tr>\n",
       "      <th>493</th>\n",
       "      <td>1.0</td>\n",
       "      <td>250.00</td>\n",
       "      <td>250.000000</td>\n",
       "    </tr>\n",
       "    <tr>\n",
       "      <th>494</th>\n",
       "      <td>1.0</td>\n",
       "      <td>380.00</td>\n",
       "      <td>380.000000</td>\n",
       "    </tr>\n",
       "    <tr>\n",
       "      <th>686</th>\n",
       "      <td>1.0</td>\n",
       "      <td>1500.00</td>\n",
       "      <td>1500.000000</td>\n",
       "    </tr>\n",
       "    <tr>\n",
       "      <th>687</th>\n",
       "      <td>1.0</td>\n",
       "      <td>600.00</td>\n",
       "      <td>600.000000</td>\n",
       "    </tr>\n",
       "    <tr>\n",
       "      <th>787</th>\n",
       "      <td>1.0</td>\n",
       "      <td>420.00</td>\n",
       "      <td>420.000000</td>\n",
       "    </tr>\n",
       "    <tr>\n",
       "      <th>799</th>\n",
       "      <td>1.0</td>\n",
       "      <td>25.00</td>\n",
       "      <td>25.000000</td>\n",
       "    </tr>\n",
       "    <tr>\n",
       "      <th>803</th>\n",
       "      <td>1.0</td>\n",
       "      <td>100.00</td>\n",
       "      <td>100.000000</td>\n",
       "    </tr>\n",
       "    <tr>\n",
       "      <th>806</th>\n",
       "      <td>4.0</td>\n",
       "      <td>996.00</td>\n",
       "      <td>249.000000</td>\n",
       "    </tr>\n",
       "    <tr>\n",
       "      <th>837</th>\n",
       "      <td>1.0</td>\n",
       "      <td>4600.00</td>\n",
       "      <td>4600.000000</td>\n",
       "    </tr>\n",
       "    <tr>\n",
       "      <th>839</th>\n",
       "      <td>2.0</td>\n",
       "      <td>6600.00</td>\n",
       "      <td>3300.000000</td>\n",
       "    </tr>\n",
       "    <tr>\n",
       "      <th>970</th>\n",
       "      <td>2.0</td>\n",
       "      <td>698.00</td>\n",
       "      <td>349.000000</td>\n",
       "    </tr>\n",
       "    <tr>\n",
       "      <th>971</th>\n",
       "      <td>1.0</td>\n",
       "      <td>349.00</td>\n",
       "      <td>349.000000</td>\n",
       "    </tr>\n",
       "    <tr>\n",
       "      <th>1007</th>\n",
       "      <td>1.0</td>\n",
       "      <td>1199.00</td>\n",
       "      <td>1199.000000</td>\n",
       "    </tr>\n",
       "    <tr>\n",
       "      <th>1010</th>\n",
       "      <td>1.0</td>\n",
       "      <td>499.00</td>\n",
       "      <td>499.000000</td>\n",
       "    </tr>\n",
       "    <tr>\n",
       "      <th>1045</th>\n",
       "      <td>1.0</td>\n",
       "      <td>199.00</td>\n",
       "      <td>199.000000</td>\n",
       "    </tr>\n",
       "    <tr>\n",
       "      <th>1114</th>\n",
       "      <td>0.0</td>\n",
       "      <td>-81.50</td>\n",
       "      <td>-inf</td>\n",
       "    </tr>\n",
       "    <tr>\n",
       "      <th>1143</th>\n",
       "      <td>1.0</td>\n",
       "      <td>399.00</td>\n",
       "      <td>399.000000</td>\n",
       "    </tr>\n",
       "    <tr>\n",
       "      <th>1201</th>\n",
       "      <td>1.0</td>\n",
       "      <td>299.00</td>\n",
       "      <td>299.000000</td>\n",
       "    </tr>\n",
       "    <tr>\n",
       "      <th>...</th>\n",
       "      <td>...</td>\n",
       "      <td>...</td>\n",
       "      <td>...</td>\n",
       "    </tr>\n",
       "    <tr>\n",
       "      <th>21486</th>\n",
       "      <td>1.0</td>\n",
       "      <td>210.00</td>\n",
       "      <td>210.000000</td>\n",
       "    </tr>\n",
       "    <tr>\n",
       "      <th>21591</th>\n",
       "      <td>1.0</td>\n",
       "      <td>399.00</td>\n",
       "      <td>399.000000</td>\n",
       "    </tr>\n",
       "    <tr>\n",
       "      <th>21605</th>\n",
       "      <td>1.0</td>\n",
       "      <td>99.00</td>\n",
       "      <td>99.000000</td>\n",
       "    </tr>\n",
       "    <tr>\n",
       "      <th>21669</th>\n",
       "      <td>1.0</td>\n",
       "      <td>149.00</td>\n",
       "      <td>149.000000</td>\n",
       "    </tr>\n",
       "    <tr>\n",
       "      <th>21674</th>\n",
       "      <td>1.0</td>\n",
       "      <td>399.00</td>\n",
       "      <td>399.000000</td>\n",
       "    </tr>\n",
       "    <tr>\n",
       "      <th>21677</th>\n",
       "      <td>1.0</td>\n",
       "      <td>49.00</td>\n",
       "      <td>49.000000</td>\n",
       "    </tr>\n",
       "    <tr>\n",
       "      <th>21679</th>\n",
       "      <td>1.0</td>\n",
       "      <td>149.00</td>\n",
       "      <td>149.000000</td>\n",
       "    </tr>\n",
       "    <tr>\n",
       "      <th>21684</th>\n",
       "      <td>1.0</td>\n",
       "      <td>149.00</td>\n",
       "      <td>149.000000</td>\n",
       "    </tr>\n",
       "    <tr>\n",
       "      <th>21704</th>\n",
       "      <td>1.0</td>\n",
       "      <td>169.00</td>\n",
       "      <td>169.000000</td>\n",
       "    </tr>\n",
       "    <tr>\n",
       "      <th>21726</th>\n",
       "      <td>1.0</td>\n",
       "      <td>99.00</td>\n",
       "      <td>99.000000</td>\n",
       "    </tr>\n",
       "    <tr>\n",
       "      <th>21761</th>\n",
       "      <td>1.0</td>\n",
       "      <td>772.03</td>\n",
       "      <td>772.030000</td>\n",
       "    </tr>\n",
       "    <tr>\n",
       "      <th>21762</th>\n",
       "      <td>1.0</td>\n",
       "      <td>1499.00</td>\n",
       "      <td>1499.000000</td>\n",
       "    </tr>\n",
       "    <tr>\n",
       "      <th>21793</th>\n",
       "      <td>1.0</td>\n",
       "      <td>999.00</td>\n",
       "      <td>999.000000</td>\n",
       "    </tr>\n",
       "    <tr>\n",
       "      <th>21842</th>\n",
       "      <td>1.0</td>\n",
       "      <td>149.00</td>\n",
       "      <td>149.000000</td>\n",
       "    </tr>\n",
       "    <tr>\n",
       "      <th>21881</th>\n",
       "      <td>3.0</td>\n",
       "      <td>897.00</td>\n",
       "      <td>299.000000</td>\n",
       "    </tr>\n",
       "    <tr>\n",
       "      <th>21893</th>\n",
       "      <td>1.0</td>\n",
       "      <td>28.00</td>\n",
       "      <td>28.000000</td>\n",
       "    </tr>\n",
       "    <tr>\n",
       "      <th>21902</th>\n",
       "      <td>1.0</td>\n",
       "      <td>99.00</td>\n",
       "      <td>99.000000</td>\n",
       "    </tr>\n",
       "    <tr>\n",
       "      <th>21922</th>\n",
       "      <td>2.0</td>\n",
       "      <td>198.00</td>\n",
       "      <td>99.000000</td>\n",
       "    </tr>\n",
       "    <tr>\n",
       "      <th>21962</th>\n",
       "      <td>1.0</td>\n",
       "      <td>1249.00</td>\n",
       "      <td>1249.000000</td>\n",
       "    </tr>\n",
       "    <tr>\n",
       "      <th>21976</th>\n",
       "      <td>1.0</td>\n",
       "      <td>1499.00</td>\n",
       "      <td>1499.000000</td>\n",
       "    </tr>\n",
       "    <tr>\n",
       "      <th>22058</th>\n",
       "      <td>1.0</td>\n",
       "      <td>169.00</td>\n",
       "      <td>169.000000</td>\n",
       "    </tr>\n",
       "    <tr>\n",
       "      <th>22073</th>\n",
       "      <td>1.0</td>\n",
       "      <td>99.00</td>\n",
       "      <td>99.000000</td>\n",
       "    </tr>\n",
       "    <tr>\n",
       "      <th>22076</th>\n",
       "      <td>1.0</td>\n",
       "      <td>28.00</td>\n",
       "      <td>28.000000</td>\n",
       "    </tr>\n",
       "    <tr>\n",
       "      <th>22087</th>\n",
       "      <td>3.0</td>\n",
       "      <td>357.00</td>\n",
       "      <td>119.000000</td>\n",
       "    </tr>\n",
       "    <tr>\n",
       "      <th>22088</th>\n",
       "      <td>9.0</td>\n",
       "      <td>1071.00</td>\n",
       "      <td>119.000000</td>\n",
       "    </tr>\n",
       "    <tr>\n",
       "      <th>22091</th>\n",
       "      <td>2.0</td>\n",
       "      <td>358.00</td>\n",
       "      <td>179.000000</td>\n",
       "    </tr>\n",
       "    <tr>\n",
       "      <th>22092</th>\n",
       "      <td>1.0</td>\n",
       "      <td>179.00</td>\n",
       "      <td>179.000000</td>\n",
       "    </tr>\n",
       "    <tr>\n",
       "      <th>22104</th>\n",
       "      <td>2.0</td>\n",
       "      <td>498.00</td>\n",
       "      <td>249.000000</td>\n",
       "    </tr>\n",
       "    <tr>\n",
       "      <th>22140</th>\n",
       "      <td>1.0</td>\n",
       "      <td>217.50</td>\n",
       "      <td>217.500000</td>\n",
       "    </tr>\n",
       "    <tr>\n",
       "      <th>22162</th>\n",
       "      <td>6.0</td>\n",
       "      <td>2394.00</td>\n",
       "      <td>399.000000</td>\n",
       "    </tr>\n",
       "  </tbody>\n",
       "</table>\n",
       "<p>985 rows × 3 columns</p>\n",
       "</div>"
      ],
      "text/plain": [
       "         item_cnt_day  item_revenue   item_price\n",
       "item_id                                         \n",
       "30                1.0        169.00   169.000000\n",
       "31                1.0        363.00   363.000000\n",
       "32                1.0        149.00   149.000000\n",
       "42                1.0        299.00   299.000000\n",
       "59                1.0        249.00   249.000000\n",
       "74                1.0        499.00   499.000000\n",
       "109               1.0        249.00   249.000000\n",
       "259               1.0        249.00   249.000000\n",
       "464               1.0        299.00   299.000000\n",
       "482               4.0      13200.00  3300.000000\n",
       "486               7.0       2100.00   300.000000\n",
       "492               1.0        600.00   600.000000\n",
       "493               1.0        250.00   250.000000\n",
       "494               1.0        380.00   380.000000\n",
       "686               1.0       1500.00  1500.000000\n",
       "687               1.0        600.00   600.000000\n",
       "787               1.0        420.00   420.000000\n",
       "799               1.0         25.00    25.000000\n",
       "803               1.0        100.00   100.000000\n",
       "806               4.0        996.00   249.000000\n",
       "837               1.0       4600.00  4600.000000\n",
       "839               2.0       6600.00  3300.000000\n",
       "970               2.0        698.00   349.000000\n",
       "971               1.0        349.00   349.000000\n",
       "1007              1.0       1199.00  1199.000000\n",
       "1010              1.0        499.00   499.000000\n",
       "1045              1.0        199.00   199.000000\n",
       "1114              0.0        -81.50         -inf\n",
       "1143              1.0        399.00   399.000000\n",
       "1201              1.0        299.00   299.000000\n",
       "...               ...           ...          ...\n",
       "21486             1.0        210.00   210.000000\n",
       "21591             1.0        399.00   399.000000\n",
       "21605             1.0         99.00    99.000000\n",
       "21669             1.0        149.00   149.000000\n",
       "21674             1.0        399.00   399.000000\n",
       "21677             1.0         49.00    49.000000\n",
       "21679             1.0        149.00   149.000000\n",
       "21684             1.0        149.00   149.000000\n",
       "21704             1.0        169.00   169.000000\n",
       "21726             1.0         99.00    99.000000\n",
       "21761             1.0        772.03   772.030000\n",
       "21762             1.0       1499.00  1499.000000\n",
       "21793             1.0        999.00   999.000000\n",
       "21842             1.0        149.00   149.000000\n",
       "21881             3.0        897.00   299.000000\n",
       "21893             1.0         28.00    28.000000\n",
       "21902             1.0         99.00    99.000000\n",
       "21922             2.0        198.00    99.000000\n",
       "21962             1.0       1249.00  1249.000000\n",
       "21976             1.0       1499.00  1499.000000\n",
       "22058             1.0        169.00   169.000000\n",
       "22073             1.0         99.00    99.000000\n",
       "22076             1.0         28.00    28.000000\n",
       "22087             3.0        357.00   119.000000\n",
       "22088             9.0       1071.00   119.000000\n",
       "22091             2.0        358.00   179.000000\n",
       "22092             1.0        179.00   179.000000\n",
       "22104             2.0        498.00   249.000000\n",
       "22140             1.0        217.50   217.500000\n",
       "22162             6.0       2394.00   399.000000\n",
       "\n",
       "[985 rows x 3 columns]"
      ]
     },
     "execution_count": 17,
     "metadata": {},
     "output_type": "execute_result"
    }
   ],
   "source": [
    "agre_item"
   ]
  },
  {
   "cell_type": "code",
   "execution_count": 22,
   "metadata": {
    "ExecuteTime": {
     "end_time": "2019-03-13T18:11:20.203290Z",
     "start_time": "2019-03-13T18:11:20.195070Z"
    }
   },
   "outputs": [],
   "source": [
    "ip = '127.0.0.1'\n",
    "\n",
    "login = 'root'\n",
    "\n",
    "password = '-'\n",
    "\n",
    "db = 'new_db'\n",
    "\n",
    "\n",
    "\n",
    "engine = create_engine(f'mysql+pymysql://{login}:{password}@{ip}/{db}')"
   ]
  },
  {
   "cell_type": "code",
   "execution_count": 23,
   "metadata": {
    "ExecuteTime": {
     "end_time": "2019-03-13T18:11:25.228832Z",
     "start_time": "2019-03-13T18:11:25.101163Z"
    }
   },
   "outputs": [],
   "source": [
    "samp_file.to_sql('main_table', engine, if_exists = 'replace', index = False)"
   ]
  },
  {
   "cell_type": "code",
   "execution_count": null,
   "metadata": {},
   "outputs": [],
   "source": []
  },
  {
   "cell_type": "code",
   "execution_count": null,
   "metadata": {},
   "outputs": [],
   "source": []
  }
 ],
 "metadata": {
  "kernelspec": {
   "display_name": "Python 3",
   "language": "python",
   "name": "python3"
  },
  "language_info": {
   "codemirror_mode": {
    "name": "ipython",
    "version": 3
   },
   "file_extension": ".py",
   "mimetype": "text/x-python",
   "name": "python",
   "nbconvert_exporter": "python",
   "pygments_lexer": "ipython3",
   "version": "3.7.1"
  },
  "varInspector": {
   "cols": {
    "lenName": 16,
    "lenType": 16,
    "lenVar": 40
   },
   "kernels_config": {
    "python": {
     "delete_cmd_postfix": "",
     "delete_cmd_prefix": "del ",
     "library": "var_list.py",
     "varRefreshCmd": "print(var_dic_list())"
    },
    "r": {
     "delete_cmd_postfix": ") ",
     "delete_cmd_prefix": "rm(",
     "library": "var_list.r",
     "varRefreshCmd": "cat(var_dic_list()) "
    }
   },
   "types_to_exclude": [
    "module",
    "function",
    "builtin_function_or_method",
    "instance",
    "_Feature"
   ],
   "window_display": false
  }
 },
 "nbformat": 4,
 "nbformat_minor": 2
}
